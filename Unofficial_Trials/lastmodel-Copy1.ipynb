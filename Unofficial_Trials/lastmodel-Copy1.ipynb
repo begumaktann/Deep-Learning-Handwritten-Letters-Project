{
 "cells": [
  {
   "cell_type": "code",
   "execution_count": 1,
   "id": "94038330",
   "metadata": {},
   "outputs": [],
   "source": [
    "import os\n",
    "import cv2\n",
    "import numpy as np\n",
    "from sklearn.preprocessing import LabelEncoder\n",
    "from sklearn.model_selection import train_test_split\n",
    "from tensorflow.keras.models import Sequential\n",
    "from tensorflow.keras.layers import Conv2D, MaxPooling2D, Flatten, Dense\n",
    "from tensorflow.keras.optimizers import SGD, Adam, RMSprop\n",
    "import matplotlib.pyplot as plt\n",
    "import time\n",
    "from tensorflow.keras.layers import Dropout\n",
    "from tensorflow.keras.preprocessing.image import ImageDataGenerator"
   ]
  },
  {
   "cell_type": "code",
   "execution_count": 2,
   "id": "e8290833",
   "metadata": {},
   "outputs": [],
   "source": [
    "# List of subfolders\n",
    "subfolders = [\"beyza\", \"zeynep\", \"ezgi\"]\n",
    "\n",
    "# Set the path to the root directory\n",
    "root_path = r\"C:\\Users\\ezgi\\Desktop\\'23-'24 fall\\deep learning\\term project\\data\"  # the root directory where the images are stored\n",
    "\n",
    "images = []\n",
    "labels = []\n",
    "\n",
    "valid_extensions = {\".jpg\", \".jpeg\", \".png\"}\n",
    "\n",
    "for subfolder in subfolders:\n",
    "    subfolder_path = os.path.join(root_path, subfolder)\n",
    "\n",
    "    for folder_name in os.listdir(subfolder_path):\n",
    "        folder_path = os.path.join(subfolder_path, folder_name)\n",
    "        if os.path.isdir(folder_path):\n",
    "            for file_name in os.listdir(folder_path):\n",
    "                if any(file_name.lower().endswith(ext) for ext in valid_extensions):\n",
    "                    image_path = os.path.join(folder_path, file_name)\n",
    "                    label = file_name.split('_')[2]\n",
    "                    img = cv2.imread(image_path)\n",
    "                    if img is None:\n",
    "                        print(f\"Failed to load image: {image_path}\")\n",
    "                    else:\n",
    "                        img = cv2.resize(img, (64, 64))\n",
    "                        images.append(img)\n",
    "                        labels.append(label)"
   ]
  },
  {
   "cell_type": "code",
   "execution_count": 3,
   "id": "84fce5bb",
   "metadata": {},
   "outputs": [],
   "source": [
    "images = np.array(images)\n",
    "labels = np.array(labels)\n",
    "\n",
    "label_encoder = LabelEncoder()\n",
    "labels_encoded = label_encoder.fit_transform(labels)\n",
    "\n",
    "images = images / 255.0"
   ]
  },
  {
   "cell_type": "code",
   "execution_count": 4,
   "id": "ed277f4f",
   "metadata": {},
   "outputs": [],
   "source": [
    "X_train, X_test, y_train, y_test = train_test_split(images, labels_encoded, test_size=0.2, random_state=42)"
   ]
  },
  {
   "cell_type": "code",
   "execution_count": 5,
   "id": "331a5b43",
   "metadata": {},
   "outputs": [],
   "source": [
    "# Define the CNN model with glorot_uniform initializer\n",
    "model = Sequential()\n",
    "\n",
    "model.add(Conv2D(32, (3, 3), activation='relu', input_shape=(64, 64, 3)))\n",
    "model.add(MaxPooling2D((2, 2)))\n",
    "\n",
    "model.add(Conv2D(64, (3, 3), activation='relu'))\n",
    "model.add(MaxPooling2D((2, 2)))\n",
    "\n",
    "model.add(Flatten())\n",
    "model.add(Dense(64, activation='relu'))\n",
    "model.add(Dense(len(label_encoder.classes_), activation='softmax'))"
   ]
  },
  {
   "cell_type": "code",
   "execution_count": 6,
   "id": "f3906917",
   "metadata": {},
   "outputs": [],
   "source": [
    "# Define the optimizer with a custom learning rate (e.g., 0.001)\n",
    "custom_learning_rate = 0.001\n",
    "custom_optimizer = Adam(learning_rate=custom_learning_rate)"
   ]
  },
  {
   "cell_type": "code",
   "execution_count": 7,
   "id": "18776155",
   "metadata": {},
   "outputs": [],
   "source": [
    "# Create an image data generator\n",
    "datagen = ImageDataGenerator(rescale=1./255)"
   ]
  },
  {
   "cell_type": "code",
   "execution_count": 8,
   "id": "db1531a6",
   "metadata": {},
   "outputs": [],
   "source": [
    "# Compile the model with the custom optimizer\n",
    "model.compile(optimizer=custom_optimizer, loss='sparse_categorical_crossentropy', metrics=['accuracy'])"
   ]
  },
  {
   "cell_type": "code",
   "execution_count": 9,
   "id": "a26fa17d",
   "metadata": {},
   "outputs": [],
   "source": [
    "# Create a generator for training data\n",
    "train_generator = datagen.flow(X_train, y_train, batch_size=32)\n",
    "\n",
    "# Create a generator for validation data\n",
    "validation_generator = datagen.flow(X_test, y_test, batch_size=32)"
   ]
  },
  {
   "cell_type": "code",
   "execution_count": 10,
   "id": "962da896",
   "metadata": {},
   "outputs": [],
   "source": [
    "# Record the start time before compilation\n",
    "start_time = time.time()"
   ]
  },
  {
   "cell_type": "code",
   "execution_count": 11,
   "id": "80901a55",
   "metadata": {
    "scrolled": true
   },
   "outputs": [
    {
     "name": "stdout",
     "output_type": "stream",
     "text": [
      "Epoch 1/40\n",
      "264/264 [==============================] - 31s 113ms/step - loss: 5.0300 - accuracy: 0.0112 - val_loss: 4.6373 - val_accuracy: 0.0131\n",
      "Epoch 2/40\n",
      "264/264 [==============================] - 29s 110ms/step - loss: 4.5047 - accuracy: 0.0182 - val_loss: 4.4327 - val_accuracy: 0.0235\n",
      "Epoch 3/40\n",
      "264/264 [==============================] - 29s 109ms/step - loss: 4.3468 - accuracy: 0.0405 - val_loss: 4.8224 - val_accuracy: 0.0311\n",
      "Epoch 4/40\n",
      "264/264 [==============================] - 29s 109ms/step - loss: 4.1672 - accuracy: 0.0639 - val_loss: 4.1301 - val_accuracy: 0.0651\n",
      "Epoch 5/40\n",
      "264/264 [==============================] - 30s 114ms/step - loss: 3.8270 - accuracy: 0.1106 - val_loss: 3.7551 - val_accuracy: 0.1124\n",
      "Epoch 6/40\n",
      "264/264 [==============================] - 29s 111ms/step - loss: 3.4739 - accuracy: 0.1603 - val_loss: 3.8978 - val_accuracy: 0.1212\n",
      "Epoch 7/40\n",
      "264/264 [==============================] - 29s 110ms/step - loss: 3.2031 - accuracy: 0.2050 - val_loss: 3.4920 - val_accuracy: 0.1663\n",
      "Epoch 8/40\n",
      "264/264 [==============================] - 29s 110ms/step - loss: 3.0064 - accuracy: 0.2405 - val_loss: 3.3405 - val_accuracy: 0.2034\n",
      "Epoch 9/40\n",
      "264/264 [==============================] - 29s 110ms/step - loss: 2.8245 - accuracy: 0.2775 - val_loss: 3.1778 - val_accuracy: 0.2148\n",
      "Epoch 10/40\n",
      "264/264 [==============================] - 29s 108ms/step - loss: 2.6661 - accuracy: 0.3067 - val_loss: 3.0860 - val_accuracy: 0.2326\n",
      "Epoch 11/40\n",
      "264/264 [==============================] - 29s 109ms/step - loss: 2.5311 - accuracy: 0.3356 - val_loss: 2.9359 - val_accuracy: 0.2806\n",
      "Epoch 12/40\n",
      "264/264 [==============================] - 30s 112ms/step - loss: 2.4250 - accuracy: 0.3584 - val_loss: 2.7702 - val_accuracy: 0.3089\n",
      "Epoch 13/40\n",
      "264/264 [==============================] - 30s 112ms/step - loss: 2.3033 - accuracy: 0.3779 - val_loss: 3.5643 - val_accuracy: 0.2183\n",
      "Epoch 14/40\n",
      "264/264 [==============================] - 29s 109ms/step - loss: 2.3469 - accuracy: 0.3822 - val_loss: 2.5190 - val_accuracy: 0.3416\n",
      "Epoch 15/40\n",
      "264/264 [==============================] - 29s 109ms/step - loss: 2.1263 - accuracy: 0.4176 - val_loss: 2.5784 - val_accuracy: 0.3352\n",
      "Epoch 16/40\n",
      "264/264 [==============================] - 29s 109ms/step - loss: 2.0467 - accuracy: 0.4379 - val_loss: 2.6237 - val_accuracy: 0.3443\n",
      "Epoch 17/40\n",
      "264/264 [==============================] - 29s 108ms/step - loss: 1.9602 - accuracy: 0.4545 - val_loss: 2.6736 - val_accuracy: 0.3234\n",
      "Epoch 18/40\n",
      "264/264 [==============================] - 29s 109ms/step - loss: 1.9211 - accuracy: 0.4624 - val_loss: 2.4005 - val_accuracy: 0.3839\n",
      "Epoch 19/40\n",
      "264/264 [==============================] - 29s 108ms/step - loss: 1.8341 - accuracy: 0.4785 - val_loss: 2.2973 - val_accuracy: 0.4018\n",
      "Epoch 20/40\n",
      "264/264 [==============================] - 29s 109ms/step - loss: 1.7507 - accuracy: 0.5001 - val_loss: 2.2934 - val_accuracy: 0.4065\n",
      "Epoch 21/40\n",
      "264/264 [==============================] - 29s 109ms/step - loss: 1.7195 - accuracy: 0.5048 - val_loss: 2.3834 - val_accuracy: 0.3856\n",
      "Epoch 22/40\n",
      "264/264 [==============================] - 29s 109ms/step - loss: 1.6837 - accuracy: 0.5209 - val_loss: 2.2215 - val_accuracy: 0.4146\n",
      "Epoch 23/40\n",
      "264/264 [==============================] - 29s 109ms/step - loss: 1.6113 - accuracy: 0.5372 - val_loss: 2.3591 - val_accuracy: 0.3837\n",
      "Epoch 24/40\n",
      "264/264 [==============================] - 29s 109ms/step - loss: 1.5527 - accuracy: 0.5506 - val_loss: 2.8896 - val_accuracy: 0.3348\n",
      "Epoch 25/40\n",
      "264/264 [==============================] - 29s 111ms/step - loss: 1.5489 - accuracy: 0.5483 - val_loss: 2.2722 - val_accuracy: 0.4113\n",
      "Epoch 26/40\n",
      "264/264 [==============================] - 30s 112ms/step - loss: 1.4733 - accuracy: 0.5662 - val_loss: 2.1277 - val_accuracy: 0.4355\n",
      "Epoch 27/40\n",
      "264/264 [==============================] - 29s 111ms/step - loss: 1.4042 - accuracy: 0.5869 - val_loss: 2.3565 - val_accuracy: 0.3920\n",
      "Epoch 28/40\n",
      "264/264 [==============================] - 29s 112ms/step - loss: 1.3872 - accuracy: 0.5884 - val_loss: 2.1334 - val_accuracy: 0.4417\n",
      "Epoch 29/40\n",
      "264/264 [==============================] - 29s 110ms/step - loss: 1.3237 - accuracy: 0.6086 - val_loss: 5.9877 - val_accuracy: 0.2188\n",
      "Epoch 30/40\n",
      "264/264 [==============================] - 29s 110ms/step - loss: 1.6304 - accuracy: 0.5460 - val_loss: 2.0996 - val_accuracy: 0.4419\n",
      "Epoch 31/40\n",
      "264/264 [==============================] - 29s 110ms/step - loss: 1.2676 - accuracy: 0.6197 - val_loss: 2.2402 - val_accuracy: 0.4284\n",
      "Epoch 32/40\n",
      "264/264 [==============================] - 29s 111ms/step - loss: 1.2606 - accuracy: 0.6239 - val_loss: 2.1619 - val_accuracy: 0.4478\n",
      "Epoch 33/40\n",
      "264/264 [==============================] - 31s 116ms/step - loss: 1.2102 - accuracy: 0.6344 - val_loss: 2.1231 - val_accuracy: 0.4405\n",
      "Epoch 34/40\n",
      "264/264 [==============================] - 31s 118ms/step - loss: 1.1610 - accuracy: 0.6455 - val_loss: 2.1704 - val_accuracy: 0.4543\n",
      "Epoch 35/40\n",
      "264/264 [==============================] - 29s 112ms/step - loss: 1.1342 - accuracy: 0.6582 - val_loss: 2.1271 - val_accuracy: 0.4552\n",
      "Epoch 36/40\n",
      "264/264 [==============================] - 30s 114ms/step - loss: 1.0859 - accuracy: 0.6664 - val_loss: 2.4106 - val_accuracy: 0.4144\n",
      "Epoch 37/40\n",
      "264/264 [==============================] - 31s 117ms/step - loss: 1.0743 - accuracy: 0.6702 - val_loss: 2.1515 - val_accuracy: 0.4459\n",
      "Epoch 38/40\n",
      "264/264 [==============================] - 30s 113ms/step - loss: 1.0145 - accuracy: 0.6903 - val_loss: 2.1906 - val_accuracy: 0.4524\n",
      "Epoch 39/40\n",
      "264/264 [==============================] - 30s 112ms/step - loss: 1.0252 - accuracy: 0.6839 - val_loss: 2.1629 - val_accuracy: 0.4588\n",
      "Epoch 40/40\n",
      "264/264 [==============================] - 31s 116ms/step - loss: 0.9463 - accuracy: 0.7061 - val_loss: 2.4241 - val_accuracy: 0.4215\n"
     ]
    }
   ],
   "source": [
    "# Train the model\n",
    "history_2 = model.fit(X_train, y_train, epochs=40, batch_size=64, validation_data=(X_test, y_test), verbose=1)"
   ]
  },
  {
   "cell_type": "code",
   "execution_count": 12,
   "id": "94626116",
   "metadata": {},
   "outputs": [
    {
     "name": "stdout",
     "output_type": "stream",
     "text": [
      "Model compilation time: 1233.0039896965027 seconds\n"
     ]
    }
   ],
   "source": [
    "# Record the end time after compilation\n",
    "end_time = time.time()\n",
    "\n",
    "# Calculate and print the compilation time\n",
    "compilation_time = end_time - start_time\n",
    "print(f\"Model compilation time: {compilation_time} seconds\")"
   ]
  },
  {
   "cell_type": "code",
   "execution_count": 13,
   "id": "490e8227",
   "metadata": {},
   "outputs": [
    {
     "data": {
      "image/png": "[encoded data removed]",
      "text/plain": [
       "<Figure size 432x288 with 1 Axes>"
      ]
     },
     "metadata": {
      "needs_background": "light"
     },
     "output_type": "display_data"
    }
   ],
   "source": [
    "# Plot accuracy and validation accuracy graphs\n",
    "plt.plot(history_2.history['accuracy'], label='Training Accuracy')\n",
    "plt.plot(history_2.history['val_accuracy'], label='Validation Accuracy')\n",
    "plt.xlabel('Epoch')\n",
    "plt.ylabel('Accuracy')\n",
    "plt.legend()\n",
    "plt.show()"
   ]
  },
  {
   "cell_type": "code",
   "execution_count": null,
   "id": "d7a4f579",
   "metadata": {},
   "outputs": [],
   "source": []
  }
 ],
 "metadata": {
  "kernelspec": {
   "display_name": "Python 3 (ipykernel)",
   "language": "python",
   "name": "python3"
  },
  "language_info": {
   "codemirror_mode": {
    "name": "ipython",
    "version": 3
   },
   "file_extension": ".py",
   "mimetype": "text/x-python",
   "name": "python",
   "nbconvert_exporter": "python",
   "pygments_lexer": "ipython3",
   "version": "3.10.1"
  }
 },
 "nbformat": 4,
 "nbformat_minor": 5
}
