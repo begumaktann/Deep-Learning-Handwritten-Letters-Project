{
 "cells": [
  {
   "cell_type": "code",
   "execution_count": 48,
   "id": "94038330",
   "metadata": {},
   "outputs": [],
   "source": [
    "import os\n",
    "import cv2\n",
    "import numpy as np\n",
    "from sklearn.preprocessing import LabelEncoder\n",
    "from sklearn.model_selection import train_test_split\n",
    "from tensorflow.keras.models import Sequential\n",
    "from tensorflow.keras.layers import Conv2D, MaxPooling2D, Flatten, Dense\n",
    "from tensorflow.keras.optimizers import SGD, Adam, RMSprop\n",
    "import matplotlib.pyplot as plt\n",
    "import time\n",
    "from tensorflow.keras.layers import Dropout\n",
    "from tensorflow.keras.preprocessing.image import ImageDataGenerator"
   ]
  },
  {
   "cell_type": "code",
   "execution_count": 49,
   "id": "e8290833",
   "metadata": {},
   "outputs": [],
   "source": [
    "# List of subfolders\n",
    "subfolders = [\"beyza\", \"zeynep\", \"ezgi\"]\n",
    "\n",
    "# Set the path to the root directory\n",
    "root_path = r\"C:\\Users\\HP\\Desktop\\project\"  # the root directory where the images are stored\n",
    "\n",
    "images = []\n",
    "labels = []\n",
    "\n",
    "valid_extensions = {\".jpg\", \".jpeg\", \".png\"}\n",
    "\n",
    "for subfolder in subfolders:\n",
    "    subfolder_path = os.path.join(root_path, subfolder)\n",
    "\n",
    "    for folder_name in os.listdir(subfolder_path):\n",
    "        folder_path = os.path.join(subfolder_path, folder_name)\n",
    "        if os.path.isdir(folder_path):\n",
    "            for file_name in os.listdir(folder_path):\n",
    "                if any(file_name.lower().endswith(ext) for ext in valid_extensions):\n",
    "                    image_path = os.path.join(folder_path, file_name)\n",
    "                    label = file_name.split('_')[2]\n",
    "                    img = cv2.imread(image_path, cv2.IMREAD_GRAYSCALE)                    \n",
    "                    if img is None:\n",
    "                        print(f\"Failed to load image: {image_path}\")\n",
    "                    else:\n",
    "                        img = cv2.resize(img, (64, 64))\n",
    "                        img = np.expand_dims(img, axis=-1)\n",
    "                        images.append(img)\n",
    "                        labels.append(label)"
   ]
  },
  {
   "cell_type": "code",
   "execution_count": 50,
   "id": "84fce5bb",
   "metadata": {},
   "outputs": [],
   "source": [
    "images = np.array(images)\n",
    "labels = np.array(labels)\n",
    "\n",
    "label_encoder = LabelEncoder()\n",
    "labels_encoded = label_encoder.fit_transform(labels)\n",
    "\n",
    "images = images / 255.0"
   ]
  },
  {
   "cell_type": "code",
   "execution_count": 51,
   "id": "ed277f4f",
   "metadata": {},
   "outputs": [],
   "source": [
    "X_train, X_test, y_train, y_test = train_test_split(images, labels_encoded, test_size=0.2, random_state=42)"
   ]
  },
  {
   "cell_type": "code",
   "execution_count": 42,
   "id": "32bfcd7a-4b03-414d-9d0c-e479522d9226",
   "metadata": {},
   "outputs": [],
   "source": [
    "data_gen = ImageDataGenerator(\n",
    "    rotation_range=20,       # randomly rotate images in the range (degrees, 0 to 180)\n",
    "    width_shift_range=0.2,   # randomly shift images horizontally (fraction of total width)\n",
    "    height_shift_range=0.2,  # randomly shift images vertically (fraction of total height)\n",
    "    shear_range=0.2,         # apply shearing transformations\n",
    "    zoom_range=0.2,          # randomly zooming inside pictures\n",
    "    fill_mode='nearest'      # strategy for filling in newly created pixels\n",
    ")\n",
    "augmented_data = data_gen.flow(X_train, y_train, batch_size=32)\n"
   ]
  },
  {
   "cell_type": "code",
   "execution_count": 52,
   "id": "331a5b43",
   "metadata": {},
   "outputs": [],
   "source": [
    "# Define the CNN model with glorot_uniform initializer\n",
    "model = Sequential()\n",
    "\n",
    "model.add(Conv2D(32, (3, 3), activation='relu', input_shape=(64, 64, 1)))\n",
    "model.add(MaxPooling2D((2, 2)))\n",
    "\n",
    "model.add(Conv2D(64, (3, 3), activation='relu'))\n",
    "model.add(MaxPooling2D((2, 2)))\n",
    "model.add(MaxPooling2D((2, 2)))\n",
    "model.add(Conv2D(128, (3, 3), activation='relu', padding='same'))\n",
    "model.add(Flatten())\n",
    "model.add(Dense(128, activation='relu'))\n",
    "model.add(Dense(len(label_encoder.classes_), activation='softmax'))"
   ]
  },
  {
   "cell_type": "code",
   "execution_count": 53,
   "id": "f3906917",
   "metadata": {},
   "outputs": [],
   "source": [
    "# Define the optimizer with a custom learning rate (e.g., 0.001)\n",
    "custom_learning_rate = 0.001\n",
    "custom_optimizer = Adam(learning_rate=custom_learning_rate)"
   ]
  },
  {
   "cell_type": "code",
   "execution_count": 31,
   "id": "18776155",
   "metadata": {},
   "outputs": [],
   "source": [
    "# Create an image data generator\n",
    "datagen = ImageDataGenerator(rescale=1./255)"
   ]
  },
  {
   "cell_type": "code",
   "execution_count": 54,
   "id": "db1531a6",
   "metadata": {},
   "outputs": [],
   "source": [
    "# Compile the model with the custom optimizer\n",
    "model.compile(optimizer=custom_optimizer, loss='sparse_categorical_crossentropy', metrics=['accuracy'])"
   ]
  },
  {
   "cell_type": "code",
   "execution_count": 55,
   "id": "a26fa17d",
   "metadata": {},
   "outputs": [],
   "source": [
    "# Create a generator for training data\n",
    "train_generator = datagen.flow(X_train, y_train, batch_size=32)\n",
    "\n",
    "# Create a generator for validation data\n",
    "validation_generator = datagen.flow(X_test, y_test, batch_size=32)"
   ]
  },
  {
   "cell_type": "code",
   "execution_count": 56,
   "id": "962da896",
   "metadata": {},
   "outputs": [],
   "source": [
    "# Record the start time before compilation\n",
    "start_time = time.time()"
   ]
  },
  {
   "cell_type": "code",
   "execution_count": 58,
   "id": "80901a55",
   "metadata": {
    "scrolled": true
   },
   "outputs": [
    {
     "name": "stdout",
     "output_type": "stream",
     "text": [
      "Epoch 1/40\n",
      "264/264 [==============================] - 87s 323ms/step - loss: 5.0857 - accuracy: 0.0099 - val_loss: 4.9128 - val_accuracy: 0.0119\n",
      "Epoch 2/40\n",
      "264/264 [==============================] - 81s 308ms/step - loss: 4.7740 - accuracy: 0.0276 - val_loss: 4.6218 - val_accuracy: 0.0437\n",
      "Epoch 3/40\n",
      "264/264 [==============================] - 83s 313ms/step - loss: 4.2991 - accuracy: 0.0748 - val_loss: 4.1231 - val_accuracy: 0.1033\n",
      "Epoch 4/40\n",
      "264/264 [==============================] - 83s 315ms/step - loss: 3.6034 - accuracy: 0.1594 - val_loss: 6.4728 - val_accuracy: 0.0314\n",
      "Epoch 5/40\n",
      "264/264 [==============================] - 84s 317ms/step - loss: 3.1559 - accuracy: 0.2297 - val_loss: 3.1886 - val_accuracy: 0.2122\n",
      "Epoch 6/40\n",
      "264/264 [==============================] - 83s 314ms/step - loss: 2.6536 - accuracy: 0.3157 - val_loss: 2.7455 - val_accuracy: 0.2901\n",
      "Epoch 7/40\n",
      "264/264 [==============================] - 83s 313ms/step - loss: 2.3265 - accuracy: 0.3811 - val_loss: 3.5118 - val_accuracy: 0.1896\n",
      "Epoch 8/40\n",
      "264/264 [==============================] - 82s 312ms/step - loss: 2.0999 - accuracy: 0.4229 - val_loss: 2.4213 - val_accuracy: 0.3554\n",
      "Epoch 9/40\n",
      "264/264 [==============================] - 86s 326ms/step - loss: 1.8553 - accuracy: 0.4780 - val_loss: 2.3083 - val_accuracy: 0.3875\n",
      "Epoch 10/40\n",
      "264/264 [==============================] - 84s 318ms/step - loss: 1.6756 - accuracy: 0.5145 - val_loss: 2.0328 - val_accuracy: 0.4417\n",
      "Epoch 11/40\n",
      "264/264 [==============================] - 82s 312ms/step - loss: 1.5306 - accuracy: 0.5479 - val_loss: 2.1307 - val_accuracy: 0.4298\n",
      "Epoch 12/40\n",
      "264/264 [==============================] - 83s 313ms/step - loss: 1.3962 - accuracy: 0.5804 - val_loss: 2.1171 - val_accuracy: 0.4184\n",
      "Epoch 13/40\n",
      "264/264 [==============================] - 82s 311ms/step - loss: 1.2793 - accuracy: 0.6086 - val_loss: 2.1546 - val_accuracy: 0.4179\n",
      "Epoch 14/40\n",
      "264/264 [==============================] - 83s 314ms/step - loss: 1.1945 - accuracy: 0.6289 - val_loss: 1.8027 - val_accuracy: 0.4932\n",
      "Epoch 15/40\n",
      "264/264 [==============================] - 88s 332ms/step - loss: 1.0808 - accuracy: 0.6614 - val_loss: 2.0648 - val_accuracy: 0.4360\n",
      "Epoch 16/40\n",
      "264/264 [==============================] - 83s 314ms/step - loss: 1.0770 - accuracy: 0.6642 - val_loss: 1.7291 - val_accuracy: 0.5343\n",
      "Epoch 17/40\n",
      "264/264 [==============================] - 84s 317ms/step - loss: 0.9615 - accuracy: 0.6955 - val_loss: 2.7551 - val_accuracy: 0.3659\n",
      "Epoch 18/40\n",
      "264/264 [==============================] - 85s 321ms/step - loss: 0.9705 - accuracy: 0.6929 - val_loss: 1.8204 - val_accuracy: 0.5034\n",
      "Epoch 19/40\n",
      "264/264 [==============================] - 106s 404ms/step - loss: 0.8562 - accuracy: 0.7279 - val_loss: 1.6715 - val_accuracy: 0.5462\n",
      "Epoch 20/40\n",
      "264/264 [==============================] - 97s 368ms/step - loss: 0.7547 - accuracy: 0.7537 - val_loss: 1.5944 - val_accuracy: 0.5837\n",
      "Epoch 21/40\n",
      "264/264 [==============================] - 86s 324ms/step - loss: 0.6990 - accuracy: 0.7732 - val_loss: 1.6585 - val_accuracy: 0.5709\n",
      "Epoch 22/40\n",
      "264/264 [==============================] - 85s 324ms/step - loss: 0.6394 - accuracy: 0.7857 - val_loss: 1.9640 - val_accuracy: 0.5258\n",
      "Epoch 23/40\n",
      "264/264 [==============================] - 83s 316ms/step - loss: 0.6318 - accuracy: 0.7887 - val_loss: 1.6740 - val_accuracy: 0.5647\n",
      "Epoch 24/40\n",
      "264/264 [==============================] - 85s 323ms/step - loss: 0.5802 - accuracy: 0.8059 - val_loss: 1.6102 - val_accuracy: 0.5854\n",
      "Epoch 25/40\n",
      "264/264 [==============================] - 95s 359ms/step - loss: 0.5393 - accuracy: 0.8190 - val_loss: 2.0611 - val_accuracy: 0.5327\n",
      "Epoch 26/40\n",
      "264/264 [==============================] - 84s 319ms/step - loss: 0.5127 - accuracy: 0.8291 - val_loss: 1.8356 - val_accuracy: 0.5438\n",
      "Epoch 27/40\n",
      "264/264 [==============================] - 82s 311ms/step - loss: 0.4997 - accuracy: 0.8344 - val_loss: 1.8116 - val_accuracy: 0.5785\n",
      "Epoch 28/40\n",
      "264/264 [==============================] - 83s 315ms/step - loss: 0.4322 - accuracy: 0.8524 - val_loss: 1.8250 - val_accuracy: 0.5771\n",
      "Epoch 29/40\n",
      "264/264 [==============================] - 972s 4s/step - loss: 0.4593 - accuracy: 0.8484 - val_loss: 1.9767 - val_accuracy: 0.5510\n",
      "Epoch 30/40\n",
      "264/264 [==============================] - 85s 321ms/step - loss: 0.4137 - accuracy: 0.8579 - val_loss: 5.7206 - val_accuracy: 0.1984\n",
      "Epoch 31/40\n",
      "264/264 [==============================] - 64s 244ms/step - loss: 0.6232 - accuracy: 0.8091 - val_loss: 1.7061 - val_accuracy: 0.5856\n",
      "Epoch 32/40\n",
      "264/264 [==============================] - 64s 243ms/step - loss: 0.3239 - accuracy: 0.8921 - val_loss: 1.7750 - val_accuracy: 0.6177\n",
      "Epoch 33/40\n",
      "264/264 [==============================] - 63s 238ms/step - loss: 0.3014 - accuracy: 0.8982 - val_loss: 2.0028 - val_accuracy: 0.5638\n",
      "Epoch 34/40\n",
      "264/264 [==============================] - 66s 249ms/step - loss: 0.3320 - accuracy: 0.8887 - val_loss: 1.8361 - val_accuracy: 0.5949\n",
      "Epoch 35/40\n",
      "264/264 [==============================] - 69s 262ms/step - loss: 0.2778 - accuracy: 0.9047 - val_loss: 1.8424 - val_accuracy: 0.6020\n",
      "Epoch 36/40\n",
      "264/264 [==============================] - 65s 244ms/step - loss: 0.2384 - accuracy: 0.9192 - val_loss: 1.9494 - val_accuracy: 0.6077\n",
      "Epoch 37/40\n",
      "264/264 [==============================] - 63s 239ms/step - loss: 0.2449 - accuracy: 0.9172 - val_loss: 2.0640 - val_accuracy: 0.5987\n",
      "Epoch 38/40\n",
      "264/264 [==============================] - 64s 243ms/step - loss: 0.2319 - accuracy: 0.9202 - val_loss: 1.9451 - val_accuracy: 0.6137\n",
      "Epoch 39/40\n",
      "264/264 [==============================] - 70s 264ms/step - loss: 0.2411 - accuracy: 0.9186 - val_loss: 2.0716 - val_accuracy: 0.6182\n",
      "Epoch 40/40\n",
      "264/264 [==============================] - 66s 249ms/step - loss: 0.2294 - accuracy: 0.9194 - val_loss: 2.0737 - val_accuracy: 0.6139\n"
     ]
    }
   ],
   "source": [
    "# Train the model\n",
    "history_2 = model.fit(X_train,y_train, epochs=40, batch_size=64, validation_data=(X_test, y_test), verbose=1)"
   ]
  },
  {
   "cell_type": "code",
   "execution_count": 59,
   "id": "94626116",
   "metadata": {},
   "outputs": [
    {
     "name": "stdout",
     "output_type": "stream",
     "text": [
      "Model compilation time: 4367.760941505432 seconds\n"
     ]
    }
   ],
   "source": [
    "# Record the end time after compilation\n",
    "end_time = time.time()\n",
    "\n",
    "# Calculate and print the compilation time\n",
    "compilation_time = end_time - start_time\n",
    "print(f\"Model compilation time: {compilation_time} seconds\")"
   ]
  },
  {
   "cell_type": "code",
   "execution_count": 60,
   "id": "490e8227",
   "metadata": {},
   "outputs": [
    {
     "data": {
      "image/png": "[encoded data removed]",
      "text/plain": [
       "<Figure size 432x288 with 1 Axes>"
      ]
     },
     "metadata": {
      "needs_background": "light"
     },
     "output_type": "display_data"
    }
   ],
   "source": [
    "# Plot accuracy and validation accuracy graphs\n",
    "plt.plot(history_2.history['accuracy'], label='Training Accuracy')\n",
    "plt.plot(history_2.history['val_accuracy'], label='Validation Accuracy')\n",
    "plt.xlabel('Epoch')\n",
    "plt.ylabel('Accuracy')\n",
    "plt.legend()\n",
    "plt.show()"
   ]
  },
  {
   "cell_type": "code",
   "execution_count": null,
   "id": "d7a4f579",
   "metadata": {},
   "outputs": [],
   "source": []
  }
 ],
 "metadata": {
  "kernelspec": {
   "display_name": "Python 3",
   "language": "python",
   "name": "python3"
  },
  "language_info": {
   "codemirror_mode": {
    "name": "ipython",
    "version": 3
   },
   "file_extension": ".py",
   "mimetype": "text/x-python",
   "name": "python",
   "nbconvert_exporter": "python",
   "pygments_lexer": "ipython3",
   "version": "3.8.8"
  }
 },
 "nbformat": 4,
 "nbformat_minor": 5
}