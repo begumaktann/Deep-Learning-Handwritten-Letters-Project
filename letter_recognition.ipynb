{
 "cells": [
  {
   "cell_type": "code",
   "execution_count": 1,
   "metadata": {},
   "outputs": [],
   "source": [
    "from PIL import Image, ImageEnhance, ImageOps\n",
    "def enhance_contrast_and_threshold(img, threshold=128):\n",
    "    # Enhance contrast\n",
    "    enhancer = ImageEnhance.Contrast(img)\n",
    "    enhanced_img = enhancer.enhance(2.0)  # Adjust the factor as needed\n",
    "\n",
    "    # Convert to grayscale and apply binary threshold\n",
    "    bw = ImageOps.grayscale(enhanced_img)\n",
    "    bw = bw.point(lambda p: p > threshold and 255)\n",
    "\n",
    "    return bw"
   ]
  },
  {
   "cell_type": "code",
   "execution_count": 4,
   "metadata": {},
   "outputs": [
    {
     "name": "stdout",
     "output_type": "stream",
     "text": [
      "Number of images: 6986\n",
      "Number of labels: 6986\n",
      "Epoch 1/10\n",
      "175/175 [==============================] - 12s 66ms/step - loss: 4.0263 - accuracy: 0.0460 - val_loss: 3.7784 - val_accuracy: 0.0901\n",
      "Epoch 2/10\n",
      "175/175 [==============================] - 11s 65ms/step - loss: 3.2082 - accuracy: 0.2038 - val_loss: 2.9538 - val_accuracy: 0.2711\n",
      "Epoch 3/10\n",
      "175/175 [==============================] - 11s 64ms/step - loss: 2.3607 - accuracy: 0.3814 - val_loss: 2.5771 - val_accuracy: 0.3455\n",
      "Epoch 4/10\n",
      "175/175 [==============================] - 11s 64ms/step - loss: 1.7702 - accuracy: 0.5161 - val_loss: 2.3911 - val_accuracy: 0.3977\n",
      "Epoch 5/10\n",
      "175/175 [==============================] - 11s 64ms/step - loss: 1.3597 - accuracy: 0.6188 - val_loss: 2.3334 - val_accuracy: 0.4299\n",
      "Epoch 6/10\n",
      "175/175 [==============================] - 11s 64ms/step - loss: 1.0278 - accuracy: 0.7090 - val_loss: 2.4606 - val_accuracy: 0.4392\n",
      "Epoch 7/10\n",
      "175/175 [==============================] - 11s 64ms/step - loss: 0.7521 - accuracy: 0.7854 - val_loss: 2.3996 - val_accuracy: 0.4571\n",
      "Epoch 8/10\n",
      "175/175 [==============================] - 13s 77ms/step - loss: 0.5250 - accuracy: 0.8538 - val_loss: 2.6497 - val_accuracy: 0.4585\n",
      "Epoch 9/10\n",
      "175/175 [==============================] - 16s 89ms/step - loss: 0.3639 - accuracy: 0.9005 - val_loss: 2.7319 - val_accuracy: 0.4571\n",
      "Epoch 10/10\n",
      "175/175 [==============================] - 15s 87ms/step - loss: 0.2323 - accuracy: 0.9401 - val_loss: 3.0471 - val_accuracy: 0.4592\n",
      "44/44 [==============================] - 1s 22ms/step - loss: 3.0471 - accuracy: 0.4592\n",
      "Test loss: 3.0471, Test accuracy: 45.92%\n"
     ]
    }
   ],
   "source": [
    "import os\n",
    "import cv2\n",
    "import numpy as np\n",
    "from sklearn.model_selection import train_test_split\n",
    "from sklearn.preprocessing import LabelEncoder\n",
    "from tensorflow.keras import Sequential\n",
    "from tensorflow.keras.layers import Conv2D, MaxPooling2D, Flatten, Dense\n",
    "from PIL import Image, ImageEnhance, ImageOps\n",
    "\n",
    "# Set the path to the root directory\n",
    "root_path = r\"C:\\Users\\ezgi\\Desktop\\'23-'24 fall\\deep learning\\term project\\b\"\n",
    "images = []\n",
    "labels = []\n",
    "\n",
    "valid_extensions = {\".jpg\", \".jpeg\", \".png\"}\n",
    "\n",
    "for folder_name in os.listdir(root_path):\n",
    "    folder_path = os.path.join(root_path, folder_name)\n",
    "    if os.path.isdir(folder_path):\n",
    "        for file_name in os.listdir(folder_path):\n",
    "            if any(file_name.lower().endswith(ext) for ext in valid_extensions):\n",
    "                image_path = os.path.join(folder_path, file_name)\n",
    "                # Extract label from the file name (assuming the label is the third part split by underscores)\n",
    "                label = file_name.split('_')[1]\n",
    "                \n",
    "                # Load the image using PIL\n",
    "                pil_image = Image.open(image_path)\n",
    "\n",
    "                # Enhance contrast and apply threshold\n",
    "                enhanced_image = enhance_contrast_and_threshold(pil_image)\n",
    "\n",
    "                # Convert PIL image to NumPy array\n",
    "                img = np.array(enhanced_image)\n",
    "\n",
    "                if img is None:\n",
    "                    print(f\"Failed to load image: {image_path}\")\n",
    "                else:\n",
    "                    img = cv2.resize(img, (64, 64))  # Resize the image to a consistent size\n",
    "                    images.append(img)\n",
    "                    labels.append(label)\n",
    "\n",
    "# Convert lists to numpy arrays\n",
    "images = np.array(images)\n",
    "labels = np.array(labels)\n",
    "\n",
    "# Reshape images for compatibility with Conv2D layer\n",
    "images = images.reshape(images.shape + (1,))\n",
    "\n",
    "print(\"Number of images:\", len(images))  # Add this line\n",
    "print(\"Number of labels:\", len(labels))  # Add this line\n",
    "\n",
    "# Encode labels into numerical format\n",
    "label_encoder = LabelEncoder()\n",
    "labels_encoded = label_encoder.fit_transform(labels)\n",
    "\n",
    "# Normalize pixel values to be between 0 and 1\n",
    "images = images / 255.0\n",
    "\n",
    "# Split the data into training and testing sets\n",
    "X_train, X_test, y_train, y_test = train_test_split(images, labels_encoded, test_size=0.2, random_state=42)\n",
    "\n",
    "# Define the CNN model\n",
    "model = Sequential()\n",
    "model.add(Conv2D(32, (3, 3), activation='relu', input_shape=(64, 64, 1)))\n",
    "model.add(MaxPooling2D((2, 2)))\n",
    "model.add(Conv2D(64, (3, 3), activation='relu'))\n",
    "model.add(MaxPooling2D((2, 2)))\n",
    "model.add(Flatten())\n",
    "model.add(Dense(64, activation='relu'))\n",
    "model.add(Dense(len(label_encoder.classes_), activation='softmax'))  # Use softmax for multi-class classification\n",
    "\n",
    "# Compile the model\n",
    "model.compile(optimizer='adam', loss='sparse_categorical_crossentropy', metrics=['accuracy'])\n",
    "\n",
    "# Train the model\n",
    "model.fit(X_train, y_train, epochs=10, batch_size=32, validation_data=(X_test, y_test))\n",
    "\n",
    "# Evaluate the model on the test set\n",
    "loss, accuracy = model.evaluate(X_test, y_test)\n",
    "print(f'Test loss: {loss:.4f}, Test accuracy: {accuracy * 100:.2f}%')\n"
   ]
  },
  {
   "cell_type": "code",
   "execution_count": 3,
   "metadata": {},
   "outputs": [
    {
     "ename": "AttributeError",
     "evalue": "'numpy.ndarray' object has no attribute 'convert'",
     "output_type": "error",
     "traceback": [
      "\u001b[1;31m---------------------------------------------------------------------------\u001b[0m",
      "\u001b[1;31mAttributeError\u001b[0m                            Traceback (most recent call last)",
      "Input \u001b[1;32mIn [3]\u001b[0m, in \u001b[0;36m<cell line: 16>\u001b[1;34m()\u001b[0m\n\u001b[0;32m     26\u001b[0m     \u001b[38;5;28mprint\u001b[39m(\u001b[38;5;124mf\u001b[39m\u001b[38;5;124m\"\u001b[39m\u001b[38;5;124mFailed to load image: \u001b[39m\u001b[38;5;132;01m{\u001b[39;00mimage_path\u001b[38;5;132;01m}\u001b[39;00m\u001b[38;5;124m\"\u001b[39m)\n\u001b[0;32m     27\u001b[0m \u001b[38;5;28;01melse\u001b[39;00m:\n\u001b[1;32m---> 28\u001b[0m     img \u001b[38;5;241m=\u001b[39m \u001b[43menhance_contrast_and_threshold\u001b[49m\u001b[43m(\u001b[49m\u001b[43mimg\u001b[49m\u001b[43m,\u001b[49m\u001b[43m \u001b[49m\u001b[38;5;241;43m64\u001b[39;49m\u001b[43m)\u001b[49m\n\u001b[0;32m     29\u001b[0m     img \u001b[38;5;241m=\u001b[39m cv2\u001b[38;5;241m.\u001b[39mresize(img, (\u001b[38;5;241m64\u001b[39m, \u001b[38;5;241m64\u001b[39m))  \u001b[38;5;66;03m# Resize the image to a consistent size\u001b[39;00m\n\u001b[0;32m     30\u001b[0m     images\u001b[38;5;241m.\u001b[39mappend(img)\n",
      "Input \u001b[1;32mIn [1]\u001b[0m, in \u001b[0;36menhance_contrast_and_threshold\u001b[1;34m(img, threshold)\u001b[0m\n\u001b[0;32m      2\u001b[0m \u001b[38;5;28;01mdef\u001b[39;00m \u001b[38;5;21menhance_contrast_and_threshold\u001b[39m(img, threshold\u001b[38;5;241m=\u001b[39m\u001b[38;5;241m128\u001b[39m):\n\u001b[0;32m      3\u001b[0m     \u001b[38;5;66;03m# Enhance contrast\u001b[39;00m\n\u001b[1;32m----> 4\u001b[0m     enhancer \u001b[38;5;241m=\u001b[39m \u001b[43mImageEnhance\u001b[49m\u001b[38;5;241;43m.\u001b[39;49m\u001b[43mContrast\u001b[49m\u001b[43m(\u001b[49m\u001b[43mimg\u001b[49m\u001b[43m)\u001b[49m\n\u001b[0;32m      5\u001b[0m     enhanced_img \u001b[38;5;241m=\u001b[39m enhancer\u001b[38;5;241m.\u001b[39menhance(\u001b[38;5;241m2.0\u001b[39m)  \u001b[38;5;66;03m# Adjust the factor as needed\u001b[39;00m\n\u001b[0;32m      7\u001b[0m     \u001b[38;5;66;03m# Convert to grayscale and apply binary threshold\u001b[39;00m\n",
      "File \u001b[1;32mc:\\Users\\ezgi\\AppData\\Local\\Programs\\Python\\Python310\\lib\\site-packages\\PIL\\ImageEnhance.py:67\u001b[0m, in \u001b[0;36mContrast.__init__\u001b[1;34m(self, image)\u001b[0m\n\u001b[0;32m     65\u001b[0m \u001b[38;5;28;01mdef\u001b[39;00m \u001b[38;5;21m__init__\u001b[39m(\u001b[38;5;28mself\u001b[39m, image):\n\u001b[0;32m     66\u001b[0m     \u001b[38;5;28mself\u001b[39m\u001b[38;5;241m.\u001b[39mimage \u001b[38;5;241m=\u001b[39m image\n\u001b[1;32m---> 67\u001b[0m     mean \u001b[38;5;241m=\u001b[39m \u001b[38;5;28mint\u001b[39m(ImageStat\u001b[38;5;241m.\u001b[39mStat(\u001b[43mimage\u001b[49m\u001b[38;5;241;43m.\u001b[39;49m\u001b[43mconvert\u001b[49m(\u001b[38;5;124m\"\u001b[39m\u001b[38;5;124mL\u001b[39m\u001b[38;5;124m\"\u001b[39m))\u001b[38;5;241m.\u001b[39mmean[\u001b[38;5;241m0\u001b[39m] \u001b[38;5;241m+\u001b[39m \u001b[38;5;241m0.5\u001b[39m)\n\u001b[0;32m     68\u001b[0m     \u001b[38;5;28mself\u001b[39m\u001b[38;5;241m.\u001b[39mdegenerate \u001b[38;5;241m=\u001b[39m Image\u001b[38;5;241m.\u001b[39mnew(\u001b[38;5;124m\"\u001b[39m\u001b[38;5;124mL\u001b[39m\u001b[38;5;124m\"\u001b[39m, image\u001b[38;5;241m.\u001b[39msize, mean)\u001b[38;5;241m.\u001b[39mconvert(image\u001b[38;5;241m.\u001b[39mmode)\n\u001b[0;32m     70\u001b[0m     \u001b[38;5;28;01mif\u001b[39;00m \u001b[38;5;124m\"\u001b[39m\u001b[38;5;124mA\u001b[39m\u001b[38;5;124m\"\u001b[39m \u001b[38;5;129;01min\u001b[39;00m image\u001b[38;5;241m.\u001b[39mgetbands():\n",
      "\u001b[1;31mAttributeError\u001b[0m: 'numpy.ndarray' object has no attribute 'convert'"
     ]
    }
   ],
   "source": [
    "import os\n",
    "import cv2\n",
    "import numpy as np\n",
    "from sklearn.model_selection import train_test_split\n",
    "from sklearn.preprocessing import LabelEncoder\n",
    "from tensorflow.keras import Sequential\n",
    "from tensorflow.keras.layers import Conv2D, MaxPooling2D, Flatten, Dense\n",
    "\n",
    "# Set the path to the root directory\n",
    "root_path = r\"C:\\Users\\ezgi\\Desktop\\'23-'24 fall\\deep learning\\term project\\b\"\n",
    "images = []\n",
    "labels = []\n",
    "\n",
    "valid_extensions = {\".jpg\", \".jpeg\", \".png\"}\n",
    "\n",
    "for folder_name in os.listdir(root_path):\n",
    "    folder_path = os.path.join(root_path, folder_name)\n",
    "    if os.path.isdir(folder_path):\n",
    "        for file_name in os.listdir(folder_path):\n",
    "            if any(file_name.lower().endswith(ext) for ext in valid_extensions):\n",
    "                image_path = os.path.join(folder_path, file_name)\n",
    "                # Extract label from the file name (assuming the label is the third part split by underscores)\n",
    "                label = file_name.split('_')[1]\n",
    "                img = cv2.imread(image_path, cv2.IMREAD_GRAYSCALE)\n",
    "                if img is None:\n",
    "                    print(f\"Failed to load image: {image_path}\")\n",
    "                else:\n",
    "                    img = cv2.resize(img, (64, 64))  # Resize the image to a consistent size\n",
    "                    images.append(img)\n",
    "                    labels.append(label)\n",
    "\n",
    "# Convert lists to numpy arrays\n",
    "images = np.array(images)\n",
    "labels = np.array(labels)\n",
    "\n",
    "print(\"Number of images:\", len(images))  # Add this line\n",
    "print(\"Number of labels:\", len(labels))  # Add this line\n",
    "\n",
    "\n",
    "# Encode labels into numerical format\n",
    "label_encoder = LabelEncoder()\n",
    "labels_encoded = label_encoder.fit_transform(labels)\n",
    "\n",
    "# Normalize pixel values to be between 0 and 1\n",
    "images = images / 255.0\n",
    "\n",
    "# Split the data into training and testing sets\n",
    "X_train, X_test, y_train, y_test = train_test_split(images, labels_encoded, test_size=0.2, random_state=42)\n",
    "\n",
    "# Define the CNN model\n",
    "model = Sequential()\n",
    "model.add(Conv2D(32, (3, 3), activation='relu', input_shape=(128, 128, 3)))\n",
    "model.add(MaxPooling2D((2, 2)))\n",
    "model.add(Conv2D(64, (3, 3), activation='relu'))\n",
    "model.add(MaxPooling2D((2, 2)))\n",
    "model.add(Flatten())\n",
    "model.add(Dense(64, activation='relu'))\n",
    "model.add(Dense(len(label_encoder.classes_), activation='softmax'))  # Use softmax for multi-class classification\n",
    "\n",
    "# Compile the model\n",
    "model.compile(optimizer='adam', loss='sparse_categorical_crossentropy', metrics=['accuracy'])\n",
    "\n",
    "# Train the model\n",
    "model.fit(X_train, y_train, epochs=10, batch_size=32, validation_data=(X_test, y_test))\n",
    "\n",
    "# Evaluate the model on the test set\n",
    "loss, accuracy = model.evaluate(X_test, y_test)\n",
    "print(f'Test loss: {loss:.4f}, Test accuracy: {accuracy * 100:.2f}%')"
   ]
  },
  {
   "cell_type": "code",
   "execution_count": 7,
   "metadata": {},
   "outputs": [
    {
     "name": "stdout",
     "output_type": "stream",
     "text": [
      "1/1 [==============================] - 0s 63ms/step\n"
     ]
    },
    {
     "data": {
      "image/png": "[encoded data removed]",
      "text/plain": [
       "<Figure size 576x288 with 3 Axes>"
      ]
     },
     "metadata": {
      "needs_background": "light"
     },
     "output_type": "display_data"
    },
    {
     "name": "stdout",
     "output_type": "stream",
     "text": [
      "1/1 [==============================] - 0s 44ms/step\n"
     ]
    },
    {
     "data": {
      "image/png": "[encoded data removed]",
      "text/plain": [
       "<Figure size 576x288 with 3 Axes>"
      ]
     },
     "metadata": {
      "needs_background": "light"
     },
     "output_type": "display_data"
    },
    {
     "name": "stdout",
     "output_type": "stream",
     "text": [
      "1/1 [==============================] - 0s 43ms/step\n"
     ]
    },
    {
     "data": {
      "image/png": "[encoded data removed]",
      "text/plain": [
       "<Figure size 576x288 with 3 Axes>"
      ]
     },
     "metadata": {
      "needs_background": "light"
     },
     "output_type": "display_data"
    },
    {
     "name": "stdout",
     "output_type": "stream",
     "text": [
      "1/1 [==============================] - 0s 37ms/step\n"
     ]
    },
    {
     "data": {
      "image/png": "[encoded data removed]",
      "text/plain": [
       "<Figure size 576x288 with 3 Axes>"
      ]
     },
     "metadata": {
      "needs_background": "light"
     },
     "output_type": "display_data"
    },
    {
     "name": "stdout",
     "output_type": "stream",
     "text": [
      "1/1 [==============================] - 0s 34ms/step\n"
     ]
    },
    {
     "data": {
      "image/png": "[encoded data removed]",
      "text/plain": [
       "<Figure size 576x288 with 3 Axes>"
      ]
     },
     "metadata": {
      "needs_background": "light"
     },
     "output_type": "display_data"
    }
   ],
   "source": [
    "import matplotlib.pyplot as plt\n",
    "import random\n",
    "\n",
    "\"\"\"# Plot 5 random examples from the training set\n",
    "for i in range(5):\n",
    "    index_train = random.randint(0, len(X_train) - 1)\n",
    "\n",
    "    # Make prediction on the selected sample from the training set\n",
    "    prediction_train = model.predict(X_train[index_train:index_train+1])\n",
    "    predicted_label_train = np.argmax(prediction_train)\n",
    "\n",
    "    # Display true label, predicted label, and the image itself\n",
    "    plt.figure(figsize=(8, 4))\n",
    "\n",
    "    # True label\n",
    "    plt.subplot(1, 3, 1)\n",
    "    plt.title(f'True Label (Train): {label_encoder.classes_[y_train[index_train]]}')\n",
    "    plt.imshow(X_train[index_train])\n",
    "\n",
    "    # Predicted label\n",
    "    plt.subplot(1, 3, 2)\n",
    "    plt.title(f'Predicted Label (Train): {label_encoder.classes_[predicted_label_train]}')\n",
    "    plt.imshow(X_train[index_train])\n",
    "\n",
    "    # Image itself\n",
    "    plt.subplot(1, 3, 3)\n",
    "    plt.title('Image')\n",
    "    plt.imshow(X_train[index_train])\n",
    "\n",
    "    plt.show()\"\"\"\n",
    "\n",
    "# Plot 5 random examples from the test set\n",
    "for i in range(5):\n",
    "    index_test = random.randint(0, len(X_test) - 1)\n",
    "\n",
    "    # Make prediction on the selected sample from the test set\n",
    "    prediction_test = model.predict(X_test[index_test:index_test+1])\n",
    "    predicted_label_test = np.argmax(prediction_test)\n",
    "\n",
    "    # Display true label, predicted label, and the image itself\n",
    "    plt.figure(figsize=(8, 4))\n",
    "\n",
    "    # True label\n",
    "    plt.subplot(1, 3, 1)\n",
    "    plt.title(f'True Label (Test): {label_encoder.classes_[y_test[index_test]]}')\n",
    "    plt.imshow(X_test[index_test])\n",
    "\n",
    "    # Predicted label\n",
    "    plt.subplot(1, 3, 2)\n",
    "    plt.title(f'Predicted Label (Test): {label_encoder.classes_[predicted_label_test]}')\n",
    "    plt.imshow(X_test[index_test])\n",
    "\n",
    "    # Image itself\n",
    "    plt.subplot(1, 3, 3)\n",
    "    plt.title('Image')\n",
    "    plt.imshow(X_test[index_test])\n",
    "\n",
    "    plt.show()\n"
   ]
  },
  {
   "cell_type": "code",
   "execution_count": null,
   "metadata": {},
   "outputs": [],
   "source": [
    "import matplotlib.pyplot as plt\n",
    "import random\n",
    "\n",
    "# Make predictions on the entire training set\n",
    "predictions_train = model.predict(X_train)\n",
    "predicted_labels_train = np.argmax(predictions_train, axis=1)\n",
    "\n",
    "# Find indices of incorrectly predicted samples\n",
    "incorrect_indices_train = np.where(predicted_labels_train != y_train)[0]\n",
    "\n",
    "# Plot 5 random examples from the training set that were predicted wrong\n",
    "for i in range(5):\n",
    "    index_train = random.choice(incorrect_indices_train)\n",
    "\n",
    "    # Make prediction on the selected sample from the training set\n",
    "    prediction_train = model.predict(X_train[index_train:index_train+1])\n",
    "    predicted_label_train = np.argmax(prediction_train)\n",
    "\n",
    "    # Display true label, predicted label, and the image itself\n",
    "    plt.figure(figsize=(8, 4))\n",
    "\n",
    "    # True label\n",
    "    plt.subplot(1, 3, 1)\n",
    "    plt.title(f'True Label (Train): {label_encoder.classes_[y_train[index_train]]}')\n",
    "    plt.imshow(X_train[index_train])\n",
    "\n",
    "    # Predicted label\n",
    "    plt.subplot(1, 3, 2)\n",
    "    plt.title(f'Predicted Label (Train): {label_encoder.classes_[predicted_label_train]}')\n",
    "    plt.imshow(X_train[index_train])\n",
    "\n",
    "    # Image itself\n",
    "    plt.subplot(1, 3, 3)\n",
    "    plt.title('Image')\n",
    "    plt.imshow(X_train[index_train])\n",
    "\n",
    "    plt.show()\n"
   ]
  },
  {
   "cell_type": "code",
   "execution_count": 7,
   "metadata": {},
   "outputs": [
    {
     "name": "stdout",
     "output_type": "stream",
     "text": [
      "Note: you may need to restart the kernel to use updated packages.\n"
     ]
    },
    {
     "name": "stderr",
     "output_type": "stream",
     "text": [
      "ERROR: Could not find a version that satisfies the requirement PIL (from versions: none)\n",
      "ERROR: No matching distribution found for PIL\n"
     ]
    }
   ],
   "source": [
    "%pip install PIL"
   ]
  },
  {
   "cell_type": "code",
   "execution_count": null,
   "metadata": {},
   "outputs": [],
   "source": []
  },
  {
   "cell_type": "code",
   "execution_count": 6,
   "metadata": {},
   "outputs": [
    {
     "data": {
      "image/png": "[encoded data removed]",
      "text/plain": [
       "<Figure size 432x288 with 1 Axes>"
      ]
     },
     "metadata": {
      "needs_background": "light"
     },
     "output_type": "display_data"
    }
   ],
   "source": [
    "resized_image = cv2.resize(X_train[50], (64, 64))\n",
    "plt.imshow(resized_image)\n",
    "plt.show()"
   ]
  }
 ],
 "metadata": {
  "kernelspec": {
   "display_name": "Python 3",
   "language": "python",
   "name": "python3"
  },
  "language_info": {
   "codemirror_mode": {
    "name": "ipython",
    "version": 3
   },
   "file_extension": ".py",
   "mimetype": "text/x-python",
   "name": "python",
   "nbconvert_exporter": "python",
   "pygments_lexer": "ipython3",
   "version": "3.10.1"
  }
 },
 "nbformat": 4,
 "nbformat_minor": 2
}
